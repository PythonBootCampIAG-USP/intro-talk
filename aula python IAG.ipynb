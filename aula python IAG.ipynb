{
 "cells": [
  {
   "cell_type": "markdown",
   "metadata": {
    "slideshow": {
     "slide_type": "slide"
    }
   },
   "source": [
    "# Welcome to the IAG Python Boot Camp 2015\n",
    "\n",
    "## Rodrigo @Nemmen (IAG USP)"
   ]
  },
  {
   "cell_type": "markdown",
   "metadata": {
    "slideshow": {
     "slide_type": "slide"
    }
   },
   "source": [
    "# Objectives\n",
    "\n",
    "* Introduce you to the Python language\n",
    "* Get you writing Python code\n",
    "* Convince you of its **utility in your research life**\n",
    "* Instill good *coding and curation practices*\n",
    "* We try not to proselytize, but sometimes it’s too hard to resist"
   ]
  },
  {
   "cell_type": "markdown",
   "metadata": {
    "slideshow": {
     "slide_type": "slide"
    }
   },
   "source": [
    "# Overview of the bootcamp\n",
    "\n",
    "* 2 days: **lectures** (~1 hour) + **hands-on sessions** (~1 hour)\n",
    "    * http://www.astro.iag.usp.br/~pythonbootcamp/schedule.html\n",
    "* Hands-on coding sessions (supervised) after each lecture\n",
    "* Caffeine provided (you paid the registration right?   :)  \n",
    "* Quick lunch\n",
    "* Homework? (small code projects)\n",
    "* Blood, sweat, tears → a more productive you"
   ]
  },
  {
   "cell_type": "markdown",
   "metadata": {
    "slideshow": {
     "slide_type": "slide"
    }
   },
   "source": [
    "# Connecting To Us\n",
    "* Ask us a question (in person!)\n",
    "* Facebook group: https://www.facebook.com/events/825751867539620/\n",
    "* Twitter: #iagpyboot\n",
    "\n",
    "## We'll try and respond to things throughout the week and beyond"
   ]
  },
  {
   "cell_type": "markdown",
   "metadata": {
    "slideshow": {
     "slide_type": "slide"
    }
   },
   "source": [
    "# Who We Are\n",
    "\n",
    "<table style=\"border-color: white;\">\n",
    "    <tr style=\"border-color: white;\">\n",
    "    <td style=\"border-color: white;\"><img src=\"http://www.storm-t.iag.usp.br/media/Urania_transparencia.png\" width=\"200\" height=\"200\" /></td>\n",
    "    <td style=\"border-color: white;\"><img src=\"http://www.imagens.usp.br/wp-content/uploads/USP.jpg\" width=\"200\" height=\"200\" /></td>\n",
    "    </tr>\n",
    "</table>\n",
    "\n",
    "* *First of all, we are all volunteers.*\n",
    "* Some of us are experts and some of us aren't, we just like using python.\n",
    "* We are (in no particular order) programmers, scientists, post-docs, graduate students and professors.\n",
    "* This is the first time we do this. We are learning with you! (two-way process)\n",
    "\n",
    "<table style=\"border-color: white;\">\n",
    "    <tr style=\"border-color: white;\">\n",
    "        <td style=\"border-color: white;\">Maria Luiza Dantas</td>\n",
    "        <td style=\"border-color: white;\">Elvis Cantelli</td>\n",
    "    </tr>\n",
    "    <tr style=\"border-color: white;\">\n",
    "        <td style=\"border-color: white;\">Julio Trevisan</td>\n",
    "        <td style=\"border-color: white;\">Bruno Quint (SOAR)</td>\n",
    "    </tr>\n",
    "    <tr style=\"border-color: white;\">\n",
    "        <td style=\"border-color: white;\">Patricia Novais</td>\n",
    "        <td style=\"border-color: white;\">Thomas Martin</td>\n",
    "    </tr>\n",
    "    <tr style=\"border-color: white;\">\n",
    "        <td style=\"border-color: white;\">Henrique Gubolin</td>\n",
    "        <td style=\"border-color: white;\">Daniel Moser</td>\n",
    "    </tr>\n",
    "    <tr style=\"border-color: white;\">\n",
    "        <td style=\"border-color: white;\">Rodrigo Nemmen</td>\n",
    "        <td style=\"border-color: white;\"></td>\n",
    "    </tr>\n",
    "</table>\n",
    "\n",
    "Big thanks to **Loic Le Tiran** (Apila.fr) and **Irene Balmes** who helped a lot with the early phase of organization"
   ]
  },
  {
   "cell_type": "markdown",
   "metadata": {
    "slideshow": {
     "slide_type": "slide"
    }
   },
   "source": [
    "# Inspiration\n",
    "\n",
    "Previous successful bootcamps at [NASA GSFC](http://asd.gsfc.nasa.gov/conferences/pythonbootcamp/2015/) and [Berkeley](http://www.pythonbootcamp.info/home)\n",
    "\n",
    "<table style=\"border-color: white;\">\n",
    "    <tr style=\"border-color: white;\">\n",
    "    <td style=\"border-color: white;\"><img src=\"http://www.umdrightnow.umd.edu/sites/umdrightnow.umd.edu/files/nasa_logo.jpg\" width=\"200\" height=\"200\" /></td>\n",
    "    <td style=\"border-color: white;\"><img src=\"https://opentg.files.wordpress.com/2013/04/ucberkely-logo.jpg\" width=\"200\" height=\"200\" /></td>\n",
    "    </tr>\n",
    "</table>\n"
   ]
  },
  {
   "cell_type": "markdown",
   "metadata": {
    "slideshow": {
     "slide_type": "slide"
    }
   },
   "source": [
    "# Introduction\n",
    "* What is Python?\n",
    "* Why Python?\n",
    "* Getting Started..."
   ]
  },
  {
   "cell_type": "markdown",
   "metadata": {
    "slideshow": {
     "slide_type": "slide"
    }
   },
   "source": [
    "# What is Python?\n",
    "\n",
    ">Python is an interpreted, object-oriented, high-level programming language with dynamic semantics. Its high-level built in data structures, combined with dynamic typing and dynamic binding, make it very attractive for Rapid Application Development, as well as for use as a scripting or glue language to connect existing components together. Python's simple, easy to learn syntax emphasizes readability and therefore reduces the cost of program maintenance. Python supports modules and packages, which encourages program modularity and code reuse. The Python interpreter and the extensive standard library are available in source or binary form without charge for all major platforms, and can be freely distributed.\n",
    "\n",
    "https://www.python.org/doc/essays/blurb/"
   ]
  },
  {
   "cell_type": "markdown",
   "metadata": {
    "slideshow": {
     "slide_type": "subslide"
    }
   },
   "source": [
    "# What is Python?\n",
    "<table>\n",
    "    <tr style=\"border-color: white;\">\n",
    "        <td style=\"border-color: white;\">interpreted</td>\n",
    "        <td style=\"border-color: white;\">no need for a compiling stage</td>\n",
    "    </tr>\n",
    "    <tr style=\"background-color: #D8D8D8; border-color: white;\">\n",
    "        <td style=\"border-color: white;\">object-oriented</td>\n",
    "        <td style=\"border-color: white;\">programming paradigm that uses objects (complex data structures with methods)</td>\n",
    "    </tr>\n",
    "    <tr style=\"border-color: white;\">\n",
    "        <td style=\"border-color: white;\">high level</td>\n",
    "        <td style=\"border-color: white;\">abstraction from the way machine interprets & executes</td>\n",
    "    </tr>\n",
    "    <tr style=\"background-color: #D8D8D8; border-color: white;\">\n",
    "        <td style=\"border-color: white;\">dynamic semantics</td>\n",
    "        <td style=\"border-color: white;\">can change meaning on-the-fly</td>\n",
    "    </tr>\n",
    "    <tr style=\"border-color: white;\">\n",
    "        <td style=\"border-color: white;\">built in</td>\n",
    "        <td style=\"border-color: white;\">core language (not external)</td>\n",
    "    </tr>\n",
    "    <tr style=\"background-color: #D8D8D8; border-color: white;\">\n",
    "        <td style=\"border-color: white;\">data structures</td>\n",
    "        <td style=\"border-color: white;\">ways of storing/manipulating data</td>\n",
    "    </tr>\n",
    "    <tr style=\"border-color: white;\">\n",
    "        <td style=\"border-color: white;\">script/glue</td>\n",
    "        <td style=\"border-color: white;\">programs that control other programs</td>\n",
    "    </tr>\n",
    "    <tr style=\"background-color: #D8D8D8; border-color: white;\">\n",
    "        <td style=\"border-color: white;\">typing</td>\n",
    "        <td style=\"border-color: white;\">the sort of variable (int, string)</td>\n",
    "    </tr>\n",
    "    <tr style=\"border-color: white;\">\n",
    "        <td style=\"border-color: white;\">syntax</td>\n",
    "        <td style=\"border-color: white;\">grammar which defines the language</td>\n",
    "    </tr>\n",
    "    <tr style=\"background-color: #D8D8D8; border-color: white;\">\n",
    "        <td style=\"border-color: white;\">library</td>\n",
    "        <td style=\"border-color: white;\">reusable collection of code</td>\n",
    "    </tr>\n",
    "    <tr style=\"border-color: white;\">\n",
    "        <td style=\"border-color: white;\">binary</td>\n",
    "        <td style=\"border-color: white;\">a file that you can run/execute</td>\n",
    "    </tr>\n",
    "</table>"
   ]
  },
  {
   "cell_type": "markdown",
   "metadata": {
    "slideshow": {
     "slide_type": "subslide"
    }
   },
   "source": [
    "# Development History\n",
    "\n",
    "<table>\n",
    "    <tr style=\"border-color: white;\">\n",
    "    <td style=\"border-color: white;\"><img src=\"https://www.python.org/~guido/images/IMG_2192.jpg\"/>\n",
    "    </td>\n",
    "    <td style=\"border-color: white;\">\n",
    "        <ul>\n",
    "            <li>started over the Christmas break 1989, by Guido van Rossum (now at Dropbox)\n",
    "            <li>developed in the early 1990s\n",
    "            <li>name comes from Monty Python’s Flying Circus\n",
    "            <li>Guido is the Benevolent Dictator for Life (BDFL), meaning that he continues to oversee Python’s development.\n",
    "        </ul>\n",
    "    </td>\n",
    "    </tr>\n",
    "</table>"
   ]
  },
  {
   "cell_type": "markdown",
   "metadata": {
    "slideshow": {
     "slide_type": "subslide"
    }
   },
   "source": [
    "# Development History\n",
    "\n",
    "* Open-sourced development from the start (BSD licensed now)\n",
    "    * http://www.opensource.org/licenses/bsd-license.php\n",
    "* Relies on large community input (bugs, patches) and 3rd party add-on software\n",
    "* Version 2.0 (2000), 2.6 (2008), 2.7 (2010). \n",
    "* We’re using 2.7.X in this class\n",
    "* Version 3.X (2008) is not backward compatible with 1.X & 2.X. But 2.7 code is “easily” migrated to 3.X"
   ]
  },
  {
   "cell_type": "markdown",
   "metadata": {
    "slideshow": {
     "slide_type": "slide"
    }
   },
   "source": [
    "# Why Python \n",
    "## Some of the Alternatives\n",
    "I've used almost all of these at some point\n",
    "### C, C++, Fortran\n",
    "*Pros: great performance, backbone of legacy scientific computing codes*\n",
    "\n",
    "`Cons: syntax not optimized for causal programming, no interactive facilities, difficult visualization, text processing, etc. `\n",
    "\n",
    "### Mathematica, IDL, Maple, Matlab\n",
    "*Pros: interactive, great visuals, extensive libraries*\n",
    "\n",
    "`Cons: costly, proprietary, unpleasant for large-scale programs and non-mathematical tasks.`\n",
    "\n",
    "### Perl\n",
    "http://strombergers.com/python/"
   ]
  },
  {
   "cell_type": "markdown",
   "metadata": {
    "slideshow": {
     "slide_type": "subslide"
    }
   },
   "source": [
    "# Why Python\n",
    "* **Free** (BSD license), highly portable (Linux, OSX, Windows, lots...)\n",
    "* **Interactive** interpreter provided.\n",
    "* Extremely readable syntax (**“executable pseudo-code”**). \n",
    "* **Simple**: non-professional programmers can use it effectively\n",
    "    * great documentation\n",
    "    * total abstraction of memory management \n",
    "* Clean object-oriented model, but **not mandatory**.\n",
    "* Rich built-in types: lists, sets, dictionaries (hash tables), strings, ... \n",
    "* Very comprehensive standard library (**batteries included**) \n",
    "* Standard libraries for IDL/Matlab-like arrays (NumPy)\n",
    "* Easy to wrap existing C, C++ and FORTRAN codes."
   ]
  },
  {
   "cell_type": "markdown",
   "metadata": {
    "slideshow": {
     "slide_type": "subslide"
    }
   },
   "source": [
    "# Why Python\n",
    "## Amazingly Scalable\n",
    "* Interactive experimentation \n",
    "* build small, self-contained scripts or million-lines projects. \n",
    "* From occasional/novice to full-time use (try that with C++).\n",
    "\n",
    "## Versatile\n",
    "* really can do anything you want, with impressive simplicity\n",
    "\n",
    "## Performance, if you need it\n",
    "* As an interpreted language, Python is slow.\n",
    "* But...if you need speed you can do the heavy lifting in C or FORTRAN \n",
    "    * ...or you can use a Python compiler (e.g., Cython) \n",
    "    * or you can easily make code parallel (see parallel lecture)"
   ]
  },
  {
   "cell_type": "markdown",
   "metadata": {
    "slideshow": {
     "slide_type": "subslide"
    }
   },
   "source": [
    "# What I Use Python For\n",
    "* Data reduction & Analysis\n",
    "* Prototyping new algorithms/ideas\n",
    "* Making plots for papers\n",
    "* Notebooking (i.e. making me remember stuff)\n",
    "    * see the iPython sessions later\n",
    "* Writing Presentations (these slides)"
   ]
  },
  {
   "cell_type": "markdown",
   "metadata": {
    "slideshow": {
     "slide_type": "subslide"
    }
   },
   "source": [
    "# Python is everywhere\n",
    "\n",
    "https://wiki.python.org/moin/OrganizationsUsingPython\n",
    "\n",
    "# Applications are Numerous\n",
    "\n",
    "* Scripting and Programing\n",
    "* GUI's\n",
    "* Web Development\n",
    "* Interactive Notebooks (see later)\n",
    "* Visualization\n",
    "* Parralelization\n",
    "* Animation\n",
    "* And so on..."
   ]
  },
  {
   "cell_type": "markdown",
   "metadata": {
    "slideshow": {
     "slide_type": "subslide"
    }
   },
   "source": [
    "# Who else uses python\n",
    "\n",
    "<table style=\"border-color: white;\">\n",
    "    <tr style=\"border-color: white;\">\n",
    "        <td style=\"border-color: white;\"><img src=\"http://www.umdrightnow.umd.edu/sites/umdrightnow.umd.edu/files/nasa_logo.jpg\" width=\"200\" height=\"200\" /></td>\n",
    "        <td style=\"border-color: white;\"><img src=\"http://www.popsci.com/sites/popsci.com/files/styles/large_1x_/public/new-google-logo.jpg?itok=ZdIobGek\" width=\"200\" height=\"200\" /></td>\n",
    "    </tr>\n",
    "    <tr style=\"border-color: white;\">\n",
    "        <td style=\"border-color: white;\"><img src=\"https://cf.dropboxstatic.com/static/images/brand/glyph@2x-vflJ1vxbq.png\" width=\"200\" height=\"200\" /></td>\n",
    "        <td style=\"border-color: white;\"><img src=\"https://upload.wikimedia.org/wikipedia/en/thumb/6/6f/ILM_logo.svg/1280px-ILM_logo.svg.png\" width=\"200\" height=\"200\" /></td>\n",
    "    </tr>\n",
    "</table>\n",
    "\n",
    "## Some astronomical examples\n",
    "\n",
    "* comprehensive analysis framework for [Fermi LAT data](http://fermi.gsfc.nasa.gov/ssc/ )\n",
    "* James Webb Space Telescope pipelines\n",
    "* Astropy module\n",
    "* Cerenkov Telescope Array\n",
    "* and many other examples\n"
   ]
  },
  {
   "cell_type": "markdown",
   "metadata": {
    "slideshow": {
     "slide_type": "slide"
    }
   },
   "source": [
    "# Getting Started\n",
    "\n",
    "* The goal of the end of this talk is to make sure that you can\n",
    "    * Start-up Python\n",
    "    * Edit a text file\n",
    "    * (start up the notebook)"
   ]
  },
  {
   "cell_type": "markdown",
   "metadata": {
    "slideshow": {
     "slide_type": "subslide"
    }
   },
   "source": [
    "# Ask questions at any time \n",
    "\n",
    "* Just speak up or raise your hand\n",
    "\n",
    "# Get help at any time\n",
    "\n",
    "* We are wandering around the room \n",
    "* Just get our attention\n",
    "\n",
    "**It's important to not flail around and fall behind.**"
   ]
  },
  {
   "cell_type": "markdown",
   "metadata": {
    "slideshow": {
     "slide_type": "slide"
    }
   },
   "source": [
    "# Firing up the interpreter in Linux\n",
    "\n",
    "## In Ubuntu, open the Terminal\n",
    "\n",
    "***\n",
    "`[pyuser@pymac ~]$ python`<br/>\n",
    "`Python 2.7.2 (default, May 12 2014, 16:26:10) `<br/>\n",
    "`[GCC 4.4.7 20120313 (Red Hat 4.4.7-4)] on linux2`<br/>\n",
    "`Type \"help\", \"copyright\", \"credits\" or \"license\" for more information.`<br/>\n",
    "`>>> `<br/>\n",
    "***\n",
    "The details might be different (different version, different compiler).  You could also use iPython:\n",
    "***\n",
    "`[pyuser@pymac ~]$ ipython`<br/>\n",
    "`Python 2.7.2 (default, May 12 2014, 16:26:10)  `<br/>\n",
    "`Type \"copyright\", \"credits\" or \"license\" for more information.`<br/>\n",
    "<br/>\n",
    "`IPython 2.0.0 -- An enhanced Interactive Python.`<br/>\n",
    "`?         -> Introduction and overview of IPython's features.`<br/>\n",
    "`%quickref -> Quick reference.`<br/>\n",
    "`help      -> Python's own help system.`<br/>\n",
    "`object?   -> Details about 'object', use 'object??' for extra details.`<br/>\n",
    "<br/>\n",
    "`In [1]: `<br/>\n",
    "***"
   ]
  },
  {
   "cell_type": "markdown",
   "metadata": {
    "slideshow": {
     "slide_type": "subslide"
    }
   },
   "source": [
    "# Firing up the interpreter in Linux\n",
    "\n",
    "![Linux 1](https://raw.githubusercontent.com/kialio/python-bootcamp/master/Lectures/00_Introduction/Linux_1.png)\n",
    "![Linux 2](https://raw.githubusercontent.com/kialio/python-bootcamp/master/Lectures/00_Introduction/Linux_2.png)"
   ]
  },
  {
   "cell_type": "markdown",
   "metadata": {
    "slideshow": {
     "slide_type": "slide"
    }
   },
   "source": [
    "# Firing up the interpreter in OS X\n",
    "\n",
    "## Go to Utilities->Terminal\n",
    "\n",
    "***\n",
    "`[pyuser@pymac ~]$ python`<br/>\n",
    "`Python 2.7.6 (default, Apr  9 2014, 11:48:52) `<br/>\n",
    "`[GCC 4.2.1 Compatible Apple LLVM 5.1 (clang-503.0.38)] on darwin`<br/>\n",
    "`Type \"help\", \"copyright\", \"credits\" or \"license\" for more information.`<br/>\n",
    "`>>> `<br/>\n",
    "***\n",
    "The details might be different (different version, different compiler).  You could also use iPython:\n",
    "***\n",
    "`[pyuser@pymac ~]$ ipython`<br/>\n",
    "`Python 2.7.6 (default, Apr  9 2014, 11:48:52) `<br/>\n",
    "`Type \"copyright\", \"credits\" or \"license\" for more information.`<br/>\n",
    "<br/>\n",
    "`IPython 2.0.0 -- An enhanced Interactive Python.`<br/>\n",
    "`?         -> Introduction and overview of IPython's features.`<br/>\n",
    "`%quickref -> Quick reference.`<br/>\n",
    "`help      -> Python's own help system.`<br/>\n",
    "`object?   -> Details about 'object', use 'object??' for extra details.`<br/>\n",
    "<br/>\n",
    "`In [1]: `<br/>\n",
    "***"
   ]
  },
  {
   "cell_type": "markdown",
   "metadata": {
    "slideshow": {
     "slide_type": "slide"
    }
   },
   "source": [
    "# Firing up the interpreter in MS Windows with Anaconda Python\n",
    "\n",
    "## Start -> All Programs -> Anaconda -> Anaconda Command Prompt\n",
    "\n",
    "***\n",
    "`C:\\Anaconda>python`<br/>\n",
    "`Python 2.7.6 |Anaconda 2.0.0 (64-bit)| (default, May 27 2014, 15:00:33) [MSC v.1500 64 bit (AMD64)] on win32`<br/>\n",
    "`Type \"help\", \"copyright\", \"credits\" or \"license\" for more information.`<br/>\n",
    "`Anaconda is brought to you by Continuum Analytics.`<br/>\n",
    "`Please check out: http://continuum.io and https://binstar.org`<br/>\n",
    "`>>>`<br/>\n",
    "***\n",
    "\n",
    "## Start -> All Programs -> Anaconda -> iPython\n",
    "\n",
    "***\n",
    "`Python 2.7.6 |Anaconda 2.0.0 (64-bit)| (default, May 27 2014, 15:00:33) [MSC v.1500 64 bit (AMD64)]`<br/>\n",
    "`Type \"copyright\", \"credits\" or \"license\" for more information.`<br/>\n",
    "<br/>\n",
    "`IPython 2.1.0 -- An enhanced Interactive Python.`<br/>\n",
    "`?         -> Introduction and overview of IPython's features.`<br/>\n",
    "`%quickref -> Quick reference.`<br/>\n",
    "`help      -> Python's own help system.`<br/>\n",
    "`object?   -> Details about 'object', use 'object??' for extra details.`<br/>\n",
    "<br/>\n",
    "`In [1]:`<br/>\n",
    "***"
   ]
  },
  {
   "cell_type": "markdown",
   "metadata": {
    "slideshow": {
     "slide_type": "subslide"
    }
   },
   "source": [
    "#Firing up the interpreter in MS Windows with Anaconda Python\n",
    "\n",
    "![Windows 1](https://raw.githubusercontent.com/kialio/python-bootcamp/master/Lectures/00_Introduction/Windows_1.png)\n",
    "![Windows 2](https://raw.githubusercontent.com/kialio/python-bootcamp/master/Lectures/00_Introduction/Windows_2.png)\n",
    "![Windows 3](https://raw.githubusercontent.com/kialio/python-bootcamp/master/Lectures/00_Introduction/Windows_3.png)\n",
    "![Windows 4](https://raw.githubusercontent.com/kialio/python-bootcamp/master/Lectures/00_Introduction/Windows_4.png)"
   ]
  },
  {
   "cell_type": "markdown",
   "metadata": {
    "slideshow": {
     "slide_type": "slide"
    }
   },
   "source": [
    "# Creating Python Programs and Scripts\n",
    "\n",
    "* Basically, any raw text editor will do\n",
    "    * Syntax highlighting (recommended)\n",
    "* You create a python program or script file in the text editor and usually save it with a *.py extension\n",
    "* There are lots of programs out there that can do this and have fancy markup.\n",
    "    * I like Gnome Editor (linux), Sublime Text (OS X) and Notepad++ (Windows)\n",
    "    * List: https://wiki.python.org/moin/PythonEditors\n",
    "* If you don't have a Text Editor, you need one for the bootcamp\n",
    "* Raise your hand if you want some advice"
   ]
  },
  {
   "cell_type": "markdown",
   "metadata": {
    "slideshow": {
     "slide_type": "slide"
    }
   },
   "source": [
    "# Last Thing: The Notebook\n",
    "\n",
    "* The iPython Notebook is a powerful tool\n",
    "* You **will** want to use it.\n",
    "* To start it up from the terminal type\n",
    "\n",
    "`ipython notebook`\n",
    "\n",
    "and a browser window should open that looks like this\n",
    "\n",
    "![notebook](https://dl.dropboxusercontent.com/u/3663331/Screenshot%202015-10-13%2008.31.02.png)\n"
   ]
  },
  {
   "cell_type": "markdown",
   "metadata": {
    "slideshow": {
     "slide_type": "subslide"
    }
   },
   "source": [
    "# iPython on an [iPad](http://computableapp.com)\n",
    "\n",
    "![iOS notebook](https://raw.githubusercontent.com/kialio/python-bootcamp/master/Lectures/00_Introduction/ipython_iOS.png)\n"
   ]
  },
  {
   "cell_type": "markdown",
   "metadata": {
    "slideshow": {
     "slide_type": "subslide"
    }
   },
   "source": [
    "# The Notebook in Windows with Anaconda\n",
    "\n",
    "## Start -> All Programs -> Anaconda -> iPython Notebook\n"
   ]
  },
  {
   "cell_type": "code",
   "execution_count": 6,
   "metadata": {
    "collapsed": false,
    "slideshow": {
     "slide_type": "slide"
    }
   },
   "outputs": [
    {
     "name": "stdout",
     "output_type": "stream",
     "text": [
      "Populating the interactive namespace from numpy and matplotlib\n"
     ]
    }
   ],
   "source": [
    "%pylab inline"
   ]
  },
  {
   "cell_type": "code",
   "execution_count": 8,
   "metadata": {
    "collapsed": false,
    "slideshow": {
     "slide_type": "fragment"
    }
   },
   "outputs": [
    {
     "data": {
      "image/png": "[encoded data removed]",
      "text/plain": [
       "<matplotlib.figure.Figure at 0x105777590>"
      ]
     },
     "metadata": {},
     "output_type": "display_data"
    }
   ],
   "source": [
    "xkcd()\n",
    "figure(figsize=(16,8))\n",
    "x = arange(10)\n",
    "plot(x,x+0.5*x*x)\n",
    "xlabel('Years Since Release')\n",
    "ylabel('Interest in Python')\n",
    "show()"
   ]
  },
  {
   "cell_type": "markdown",
   "metadata": {
    "slideshow": {
     "slide_type": "slide"
    }
   },
   "source": [
    "## Concluding...\n",
    "\n",
    "* My thanks to [Jeremy Perkins](https://twitter.com/oldmanperkins) (NASA GSFC) who provided inspiration and slides for this presentation\n",
    "* [How to use IPython for presentations](http://www.damian.oquanta.info/posts/make-your-slides-with-ipython.html)\n",
    "* Have fun!\n",
    "\n"
   ]
  }
 ],
 "metadata": {
  "celltoolbar": "Slideshow",
  "kernelspec": {
   "display_name": "Python 2",
   "language": "python",
   "name": "python2"
  },
  "language_info": {
   "codemirror_mode": {
    "name": "ipython",
    "version": 2
   },
   "file_extension": ".py",
   "mimetype": "text/x-python",
   "name": "python",
   "nbconvert_exporter": "python",
   "pygments_lexer": "ipython2",
   "version": "2.7.10"
  }
 },
 "nbformat": 4,
 "nbformat_minor": 0
}
